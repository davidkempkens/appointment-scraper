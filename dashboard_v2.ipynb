{
 "cells": [
  {
   "cell_type": "code",
   "execution_count": null,
   "metadata": {},
   "outputs": [],
   "source": [
    "import pandas as pd\n",
    "import sqlite3\n",
    "import visualize.viztool as viztool\n",
    "import matplotlib.pyplot as plt\n",
    "import matplotlib.dates as mdates\n",
    "\n",
    "city = \"duesseldorf\"\n",
    "concern = \"Personalausweis - Antrag\"\n",
    "\n",
    "df = viztool.retrieveSlotData(city=city, concern=concern)\n",
    "df"
   ]
  },
  {
   "cell_type": "code",
   "execution_count": null,
   "metadata": {},
   "outputs": [],
   "source": [
    "df.describe()"
   ]
  },
  {
   "cell_type": "code",
   "execution_count": null,
   "metadata": {},
   "outputs": [],
   "source": [
    "viztool.plot_count_per_timestamp(city=city, concern=concern)"
   ]
  },
  {
   "cell_type": "code",
   "execution_count": null,
   "metadata": {},
   "outputs": [],
   "source": [
    "viztool.plot_time_until_next_slots(city=city, concern=concern ,window=\"4h\")"
   ]
  },
  {
   "cell_type": "code",
   "execution_count": null,
   "metadata": {},
   "outputs": [],
   "source": [
    "slots = viztool.group_by_slot_id(city=city, concern=concern)\n",
    "slots.sort_values(\"total_delta\", ascending=False)"
   ]
  },
  {
   "cell_type": "code",
   "execution_count": null,
   "metadata": {},
   "outputs": [],
   "source": [
    "viztool.plot_mean_total_delta_per_weekday(city=city, concern=concern)"
   ]
  },
  {
   "cell_type": "code",
   "execution_count": null,
   "metadata": {},
   "outputs": [],
   "source": [
    "viztool.plot_mean_total_delta_per_hour(city=city, concern=concern)"
   ]
  },
  {
   "cell_type": "code",
   "execution_count": null,
   "metadata": {},
   "outputs": [],
   "source": [
    "time_until_slot = viztool.calc_time_until_next_slots(city=city, concern=concern)\n",
    "time_until_slot"
   ]
  },
  {
   "cell_type": "code",
   "execution_count": null,
   "metadata": {},
   "outputs": [],
   "source": [
    "\n",
    "fig, ax = plt.subplots(figsize=(20, 10))\n",
    "# ax.plot(\n",
    "#     time_until_slot.index,\n",
    "#     time_until_slot[\"time_until_slot_mean\"],\n",
    "#     label=\"Mean time until slot\",\n",
    "# )\n",
    "# ax.plot(\n",
    "#     time_until_slot.index,\n",
    "#     time_until_slot[\"time_until_slot_min\"],\n",
    "#     label=\"Min time until slot\",\n",
    "# )\n",
    "ax.plot(\n",
    "    time_until_slot.index,\n",
    "    time_until_slot[\"time_until_slot_max\"],\n",
    "    label=\"Max time until slot\",\n",
    ")\n",
    "\n",
    "# plot difference between min and max\n",
    "ax.fill_between(\n",
    "    time_until_slot.index,\n",
    "    time_until_slot[\"time_until_slot_min\"],\n",
    "    time_until_slot[\"time_until_slot_max\"],\n",
    "    alpha=0.3,\n",
    "    label=\"Difference between min and max\",\n",
    ")\n",
    "\n",
    "# ax.scatter(\n",
    "#     time_until_slot.index,\n",
    "#     time_until_slot[\"h_until_slot\"],\n",
    "#     label=\"Hours until slot\",\n",
    "# )\n",
    "\n",
    "ax.xaxis.set_major_locator(mdates.HourLocator(interval=24))\n",
    "ax.xaxis.set_major_formatter(mdates.DateFormatter(\"%a %d.%m.\"))\n",
    "\n",
    "ax.set_title(\"Time until slot\")\n",
    "ax.set_xlabel(\"Time\")\n",
    "ax.set_ylabel(\"Hours until slot\")\n",
    "ax.legend()\n",
    "\n",
    "plt.show()"
   ]
  },
  {
   "cell_type": "code",
   "execution_count": null,
   "metadata": {},
   "outputs": [],
   "source": [
    "# fill every minute between the timestamps with the last value in time_until_slot dataframe\n",
    "time_until_slot_filled = time_until_slot.resample(\"T\").ffill()\n",
    "\n",
    "fig, ax = plt.subplots(figsize=(20, 10))\n",
    "ax.plot(\n",
    "    time_until_slot_filled.index,\n",
    "    time_until_slot_filled[\"time_until_slot_max\"],\n",
    "    label=\"Max time until slot\",\n",
    ")\n",
    "\n",
    "ax.fill_between(\n",
    "    time_until_slot_filled.index,\n",
    "    time_until_slot_filled[\"time_until_slot_min\"],\n",
    "    time_until_slot_filled[\"time_until_slot_max\"],\n",
    "    alpha=0.3,\n",
    "    label=\"Difference between min and max\",\n",
    ")\n",
    "\n",
    "ax.xaxis.set_major_locator(mdates.HourLocator(interval=24))\n",
    "ax.xaxis.set_major_formatter(mdates.DateFormatter(\"%a %d.%m.\"))\n",
    "\n",
    "\n",
    "ax.set_title(\"Time until slot\")\n",
    "ax.set_xlabel(\"Time\")\n",
    "ax.set_ylabel(\"Hours until slot\")\n",
    "ax.legend()\n",
    "\n",
    "plt.show()"
   ]
  },
  {
   "cell_type": "code",
   "execution_count": null,
   "metadata": {},
   "outputs": [],
   "source": [
    "# plot rolling mean of time until slot for 6 hours\n",
    "\n",
    "time_until_slot_filled[\"time_until_slot_max\"].rolling(\"4h\").min().plot(\n",
    "    figsize=(20, 10), grid=True, title=\"Rolling mean of time until slot\", xlabel=\"Time\", ylabel=\"Hours until slot\"\n",
    ")\n",
    "\n",
    "plt.show()"
   ]
  }
 ],
 "metadata": {
  "kernelspec": {
   "display_name": "venv",
   "language": "python",
   "name": "python3"
  },
  "language_info": {
   "codemirror_mode": {
    "name": "ipython",
    "version": 3
   },
   "file_extension": ".py",
   "mimetype": "text/x-python",
   "name": "python",
   "nbconvert_exporter": "python",
   "pygments_lexer": "ipython3",
   "version": "3.10.12"
  }
 },
 "nbformat": 4,
 "nbformat_minor": 2
}
